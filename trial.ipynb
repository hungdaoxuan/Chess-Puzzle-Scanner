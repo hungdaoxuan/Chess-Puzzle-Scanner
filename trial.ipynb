{
 "cells": [
  {
   "cell_type": "code",
   "execution_count": 1,
   "metadata": {},
   "outputs": [],
   "source": [
    "from tkinter import *\n",
    "from PIL import ImageTk, Image\n",
    "from tkinter import filedialog\n",
    "import Piece_Classifier"
   ]
  },
  {
   "cell_type": "code",
   "execution_count": 2,
   "metadata": {},
   "outputs": [],
   "source": [
    "def openfilename():\n",
    "    filename = filedialog.askopenfilename(title ='Upload Puzzle')\n",
    "    return filename"
   ]
  },
  {
   "cell_type": "code",
   "execution_count": 3,
   "metadata": {},
   "outputs": [],
   "source": [
    "import webbrowser\n",
    "\n",
    "def callback(url):\n",
    "    webbrowser.open_new(url)"
   ]
  },
  {
   "cell_type": "code",
   "execution_count": 4,
   "metadata": {},
   "outputs": [],
   "source": [
    "def open_img():\n",
    "    # Select the Imagename  from a folder \n",
    "    x = openfilename()\n",
    "\n",
    "    fen = Piece_Classifier.get_prediction(x,show=False)\n",
    "    \n",
    "  \n",
    "    # opens the image\n",
    "    img = Image.open('results.png')\n",
    "      \n",
    "    # resize the image and apply a high-quality down sampling filter\n",
    "    img = img.resize((450, 250), Image.ANTIALIAS)\n",
    "  \n",
    "    # PhotoImage class is used to add image to widgets, icons etc\n",
    "    img = ImageTk.PhotoImage(img)\n",
    "   \n",
    "    # create a label\n",
    "    panel = Label(root, image = img)\n",
    "      \n",
    "    # set the image as img \n",
    "    panel.image = img\n",
    "    panel.place(x=8,y=45)\n",
    "    get_link(root,fen)"
   ]
  },
  {
   "cell_type": "code",
   "execution_count": 5,
   "metadata": {},
   "outputs": [],
   "source": [
    "def get_link(root,fen):\n",
    "    link1 = Label(root, text=\"Link to Analysis Board\", fg=\"blue\", cursor=\"hand2\")\n",
    "    link1.pack()\n",
    "    link1.bind(\"<Button-1>\", lambda e: callback(\"https://lichess.org/analysis/{}\".format(fen)))\n",
    "\n",
    "    link1.place(x=8,y=320)"
   ]
  },
  {
   "cell_type": "code",
   "execution_count": null,
   "metadata": {},
   "outputs": [
    {
     "name": "stderr",
     "output_type": "stream",
     "text": [
      "Exception in Tkinter callback\n",
      "Traceback (most recent call last):\n",
      "  File \"c:\\users\\hungdx\\.conda\\envs\\tfpy38\\lib\\tkinter\\__init__.py\", line 1892, in __call__\n",
      "    return self.func(*args)\n",
      "  File \"C:\\Users\\HungDX\\AppData\\Local\\Temp/ipykernel_11296/3240466582.py\", line 5, in open_img\n",
      "    fen = Piece_Classifier.get_prediction(x,show=False)\n",
      "  File \"C:\\Users\\HungDX\\Documents\\GitHub\\Chess-Puzzle-Scanner\\Piece_Classifier.py\", line 74, in get_prediction\n",
      "    model.load_weights('best_model_multi.h5')\n",
      "  File \"c:\\users\\hungdx\\.conda\\envs\\tfpy38\\lib\\site-packages\\tensorflow\\python\\keras\\engine\\training.py\", line 2319, in load_weights\n",
      "    with h5py.File(filepath, 'r') as f:\n",
      "  File \"c:\\users\\hungdx\\.conda\\envs\\tfpy38\\lib\\site-packages\\h5py\\_hl\\files.py\", line 424, in __init__\n",
      "    fid = make_fid(name, mode, userblock_size,\n",
      "  File \"c:\\users\\hungdx\\.conda\\envs\\tfpy38\\lib\\site-packages\\h5py\\_hl\\files.py\", line 190, in make_fid\n",
      "    fid = h5f.open(name, flags, fapl=fapl)\n",
      "  File \"h5py\\_objects.pyx\", line 54, in h5py._objects.with_phil.wrapper\n",
      "  File \"h5py\\_objects.pyx\", line 55, in h5py._objects.with_phil.wrapper\n",
      "  File \"h5py\\h5f.pyx\", line 96, in h5py.h5f.open\n",
      "OSError: Unable to open file (unable to open file: name = 'best_model_multi.h5', errno = 2, error message = 'No such file or directory', flags = 0, o_flags = 0)\n"
     ]
    }
   ],
   "source": [
    "root = Tk()\n",
    "root.title(\"Chess Puzzle Scanner\")\n",
    "root.geometry(\"480x350\")\n",
    "root.resizable(width = True, height = True)\n",
    "\n",
    "btn = Button(root, text ='Upload image', command = open_img).place(x=205,y=15)\n",
    "root.mainloop()"
   ]
  },
  {
   "cell_type": "code",
   "execution_count": null,
   "metadata": {},
   "outputs": [],
   "source": []
  }
 ],
 "metadata": {
  "interpreter": {
   "hash": "ca8aff4e1b908b317bddf650d9e70a559ef0dc35d193627548069520cf330793"
  },
  "kernelspec": {
   "display_name": "Python 3 (ipykernel)",
   "language": "python",
   "name": "python3"
  },
  "language_info": {
   "codemirror_mode": {
    "name": "ipython",
    "version": 3
   },
   "file_extension": ".py",
   "mimetype": "text/x-python",
   "name": "python",
   "nbconvert_exporter": "python",
   "pygments_lexer": "ipython3",
   "version": "3.8.12"
  }
 },
 "nbformat": 4,
 "nbformat_minor": 2
}
