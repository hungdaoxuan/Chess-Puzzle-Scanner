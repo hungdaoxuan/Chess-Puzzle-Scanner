{
 "cells": [
  {
   "cell_type": "code",
   "execution_count": 1,
   "metadata": {
    "executionInfo": {
     "elapsed": 3615,
     "status": "ok",
     "timestamp": 1633062602550,
     "user": {
      "displayName": "Subarno Nathroy",
      "photoUrl": "https://lh3.googleusercontent.com/a/default-user=s64",
      "userId": "15461003740536035718"
     },
     "user_tz": -330
    },
    "id": "bLoVsctGPTXT"
   },
   "outputs": [],
   "source": [
    "import os\n",
    "import cv2\n",
    "import matplotlib.pyplot as plt\n",
    "from tensorflow.keras.preprocessing.image import ImageDataGenerator\n",
    "import numpy as np\n",
    "import itertools\n",
    "import BoardExtractor\n",
    "from sklearn.metrics import accuracy_score\n",
    "from tensorflow.keras.models import Sequential\n",
    "from tensorflow.keras.callbacks import ModelCheckpoint\n",
    "from tensorflow.keras.layers import Conv2D, Dense, MaxPooling2D, Flatten"
   ]
  },
  {
   "cell_type": "code",
   "execution_count": 2,
   "metadata": {
    "colab": {
     "base_uri": "https://localhost:8080/"
    },
    "executionInfo": {
     "elapsed": 372,
     "status": "ok",
     "timestamp": 1633062935359,
     "user": {
      "displayName": "Subarno Nathroy",
      "photoUrl": "https://lh3.googleusercontent.com/a/default-user=s64",
      "userId": "15461003740536035718"
     },
     "user_tz": -330
    },
    "id": "iB96wiqYPTXr",
    "outputId": "a743ac56-b18d-41e0-b04d-8b209ced0edd"
   },
   "outputs": [
    {
     "name": "stdout",
     "output_type": "stream",
     "text": [
      "['B-Bishop', 'B-King', 'B-Knight', 'B-Pawn', 'B-Queen', 'B-Rook', 'W-Bishop', 'W-King', 'W-Knight', 'W-Pawn', 'W-Queen', 'W-Rook']\n"
     ]
    }
   ],
   "source": [
    "classes = [x for x in os.listdir('Dataset') if x[0]=='B' or x[0]=='W']\n",
    "print(classes)"
   ]
  },
  {
   "cell_type": "code",
   "execution_count": 3,
   "metadata": {
    "colab": {
     "base_uri": "https://localhost:8080/"
    },
    "executionInfo": {
     "elapsed": 372,
     "status": "ok",
     "timestamp": 1633064383384,
     "user": {
      "displayName": "Subarno Nathroy",
      "photoUrl": "https://lh3.googleusercontent.com/a/default-user=s64",
      "userId": "15461003740536035718"
     },
     "user_tz": -330
    },
    "id": "ePZerE-6PTYT",
    "outputId": "5e0be197-0bb8-48c7-def1-69d95436feb3"
   },
   "outputs": [
    {
     "name": "stdout",
     "output_type": "stream",
     "text": [
      "Found 2916 images belonging to 12 classes.\n",
      "Found 720 images belonging to 12 classes.\n"
     ]
    }
   ],
   "source": [
    "train_datagen = ImageDataGenerator(\n",
    "        rotation_range=2, # rotation\n",
    "        # width_shift_range=0.1, # horizontal shift\n",
    "        # height_shift_range=0.1, # vertical shift\n",
    "        zoom_range=0.1, # zoom\n",
    "        # shear_range=0.1,\n",
    "        horizontal_flip=True, # horizontal flip\n",
    "        # brightness_range=[0.2,1.2],\n",
    "        validation_split=0.2) # brightness\n",
    "\n",
    "train_generator = train_datagen.flow_from_directory(\n",
    "    \"Dataset/\",\n",
    "    target_size=(64,64),\n",
    "    batch_size=16,\n",
    "    class_mode='categorical',\n",
    "    subset='training'\n",
    ")\n",
    "valid_generator = train_datagen.flow_from_directory(\n",
    "    \"Dataset/\",\n",
    "    target_size=(64,64),\n",
    "    batch_size=16,\n",
    "    class_mode='categorical',\n",
    "    subset='validation'\n",
    ")"
   ]
  },
  {
   "cell_type": "code",
   "execution_count": 4,
   "metadata": {
    "executionInfo": {
     "elapsed": 412,
     "status": "ok",
     "timestamp": 1633064405293,
     "user": {
      "displayName": "Subarno Nathroy",
      "photoUrl": "https://lh3.googleusercontent.com/a/default-user=s64",
      "userId": "15461003740536035718"
     },
     "user_tz": -330
    },
    "id": "-7lzzVBLPTYa"
   },
   "outputs": [],
   "source": [
    "#Simple CNN Model\n",
    "model = Sequential()\n",
    "model.add(Conv2D(128, kernel_size=(5,5), padding='valid',input_shape=train_generator.image_shape,activation='relu' ))\n",
    "model.add(MaxPooling2D(pool_size=(3,3),strides=(2,2),padding='valid'))\n",
    "model.add(Conv2D(256, kernel_size=(3,3),strides=(1,1), padding='same',activation='relu' ))\n",
    "model.add(MaxPooling2D(pool_size=(3,3),strides=(2,2),padding='valid'))\n",
    "model.add(Flatten())\n",
    "model.add(Dense(256,activation='relu'))\n",
    "model.add(Dense(12,activation='softmax'))"
   ]
  },
  {
   "cell_type": "code",
   "execution_count": 5,
   "metadata": {
    "colab": {
     "base_uri": "https://localhost:8080/"
    },
    "executionInfo": {
     "elapsed": 422,
     "status": "ok",
     "timestamp": 1633064408592,
     "user": {
      "displayName": "Subarno Nathroy",
      "photoUrl": "https://lh3.googleusercontent.com/a/default-user=s64",
      "userId": "15461003740536035718"
     },
     "user_tz": -330
    },
    "id": "lcVYYdxgPTYe",
    "outputId": "289782fb-dd7c-4060-f23e-eaad90d2a755"
   },
   "outputs": [
    {
     "name": "stdout",
     "output_type": "stream",
     "text": [
      "Model: \"sequential\"\n",
      "_________________________________________________________________\n",
      "Layer (type)                 Output Shape              Param #   \n",
      "=================================================================\n",
      "conv2d (Conv2D)              (None, 60, 60, 128)       9728      \n",
      "_________________________________________________________________\n",
      "max_pooling2d (MaxPooling2D) (None, 29, 29, 128)       0         \n",
      "_________________________________________________________________\n",
      "conv2d_1 (Conv2D)            (None, 29, 29, 256)       295168    \n",
      "_________________________________________________________________\n",
      "max_pooling2d_1 (MaxPooling2 (None, 14, 14, 256)       0         \n",
      "_________________________________________________________________\n",
      "flatten (Flatten)            (None, 50176)             0         \n",
      "_________________________________________________________________\n",
      "dense (Dense)                (None, 256)               12845312  \n",
      "_________________________________________________________________\n",
      "dense_1 (Dense)              (None, 12)                3084      \n",
      "=================================================================\n",
      "Total params: 13,153,292\n",
      "Trainable params: 13,153,292\n",
      "Non-trainable params: 0\n",
      "_________________________________________________________________\n"
     ]
    }
   ],
   "source": [
    "model.summary()"
   ]
  },
  {
   "cell_type": "code",
   "execution_count": 6,
   "metadata": {
    "executionInfo": {
     "elapsed": 356,
     "status": "ok",
     "timestamp": 1633064413213,
     "user": {
      "displayName": "Subarno Nathroy",
      "photoUrl": "https://lh3.googleusercontent.com/a/default-user=s64",
      "userId": "15461003740536035718"
     },
     "user_tz": -330
    },
    "id": "71Qci9btPTYg"
   },
   "outputs": [],
   "source": [
    "model.compile(optimizer='adam',\n",
    "              loss='categorical_crossentropy',\n",
    "              metrics=['accuracy'])"
   ]
  },
  {
   "cell_type": "code",
   "execution_count": 7,
   "metadata": {
    "colab": {
     "base_uri": "https://localhost:8080/"
    },
    "executionInfo": {
     "elapsed": 42002,
     "status": "ok",
     "timestamp": 1633064661980,
     "user": {
      "displayName": "Subarno Nathroy",
      "photoUrl": "https://lh3.googleusercontent.com/a/default-user=s64",
      "userId": "15461003740536035718"
     },
     "user_tz": -330
    },
    "id": "vlCG5DB4PTYi",
    "outputId": "4b43b1e0-258e-4d7f-fd82-06bc43d572d9"
   },
   "outputs": [
    {
     "name": "stdout",
     "output_type": "stream",
     "text": [
      "Epoch 1/20\n",
      "183/183 [==============================] - 56s 302ms/step - loss: 15.0463 - accuracy: 0.5806 - val_loss: 0.5764 - val_accuracy: 0.8472\n",
      "\n",
      "Epoch 00001: val_accuracy improved from -inf to 0.84722, saving model to best_model_multi.h5\n",
      "Epoch 2/20\n",
      "183/183 [==============================] - 54s 293ms/step - loss: 0.4987 - accuracy: 0.8580 - val_loss: 0.4417 - val_accuracy: 0.8931\n",
      "\n",
      "Epoch 00002: val_accuracy improved from 0.84722 to 0.89306, saving model to best_model_multi.h5\n",
      "Epoch 3/20\n",
      "183/183 [==============================] - 53s 288ms/step - loss: 0.3191 - accuracy: 0.9208 - val_loss: 0.3001 - val_accuracy: 0.9222\n",
      "\n",
      "Epoch 00003: val_accuracy improved from 0.89306 to 0.92222, saving model to best_model_multi.h5\n",
      "Epoch 4/20\n",
      "183/183 [==============================] - 52s 286ms/step - loss: 0.2874 - accuracy: 0.9222 - val_loss: 0.2634 - val_accuracy: 0.9278\n",
      "\n",
      "Epoch 00004: val_accuracy improved from 0.92222 to 0.92778, saving model to best_model_multi.h5\n",
      "Epoch 5/20\n",
      "183/183 [==============================] - 55s 300ms/step - loss: 0.1753 - accuracy: 0.9595 - val_loss: 0.5266 - val_accuracy: 0.8819\n",
      "\n",
      "Epoch 00005: val_accuracy did not improve from 0.92778\n",
      "Epoch 6/20\n",
      "183/183 [==============================] - 55s 301ms/step - loss: 0.1711 - accuracy: 0.9599 - val_loss: 0.1523 - val_accuracy: 0.9639\n",
      "\n",
      "Epoch 00006: val_accuracy improved from 0.92778 to 0.96389, saving model to best_model_multi.h5\n",
      "Epoch 7/20\n",
      "183/183 [==============================] - 52s 284ms/step - loss: 0.1926 - accuracy: 0.9571 - val_loss: 1.6613 - val_accuracy: 0.7986\n",
      "\n",
      "Epoch 00007: val_accuracy did not improve from 0.96389\n",
      "Epoch 8/20\n",
      "183/183 [==============================] - 50s 273ms/step - loss: 1.0052 - accuracy: 0.8515 - val_loss: 0.6777 - val_accuracy: 0.8889\n",
      "\n",
      "Epoch 00008: val_accuracy did not improve from 0.96389\n",
      "Epoch 9/20\n",
      "183/183 [==============================] - 51s 280ms/step - loss: 0.2304 - accuracy: 0.9479 - val_loss: 0.3536 - val_accuracy: 0.9250\n",
      "\n",
      "Epoch 00009: val_accuracy did not improve from 0.96389\n",
      "Epoch 10/20\n",
      "183/183 [==============================] - 52s 286ms/step - loss: 0.1270 - accuracy: 0.9736 - val_loss: 0.1722 - val_accuracy: 0.9639\n",
      "\n",
      "Epoch 00010: val_accuracy did not improve from 0.96389\n",
      "Epoch 11/20\n",
      "183/183 [==============================] - 52s 285ms/step - loss: 0.0732 - accuracy: 0.9815 - val_loss: 0.1616 - val_accuracy: 0.9583\n",
      "\n",
      "Epoch 00011: val_accuracy did not improve from 0.96389\n",
      "Epoch 12/20\n",
      "183/183 [==============================] - 56s 308ms/step - loss: 0.1781 - accuracy: 0.9674 - val_loss: 0.1662 - val_accuracy: 0.9639\n",
      "\n",
      "Epoch 00012: val_accuracy did not improve from 0.96389\n",
      "Epoch 13/20\n",
      "183/183 [==============================] - 53s 291ms/step - loss: 0.1179 - accuracy: 0.9763 - val_loss: 0.2274 - val_accuracy: 0.9681\n",
      "\n",
      "Epoch 00013: val_accuracy improved from 0.96389 to 0.96806, saving model to best_model_multi.h5\n",
      "Epoch 14/20\n",
      "183/183 [==============================] - 53s 287ms/step - loss: 0.1516 - accuracy: 0.9660 - val_loss: 0.2267 - val_accuracy: 0.9431\n",
      "\n",
      "Epoch 00014: val_accuracy did not improve from 0.96806\n",
      "Epoch 15/20\n",
      "183/183 [==============================] - 55s 303ms/step - loss: 0.0788 - accuracy: 0.9808 - val_loss: 0.1670 - val_accuracy: 0.9667\n",
      "\n",
      "Epoch 00015: val_accuracy did not improve from 0.96806\n",
      "Epoch 16/20\n",
      "183/183 [==============================] - 54s 297ms/step - loss: 0.0211 - accuracy: 0.9945 - val_loss: 0.1170 - val_accuracy: 0.9792\n",
      "\n",
      "Epoch 00016: val_accuracy improved from 0.96806 to 0.97917, saving model to best_model_multi.h5\n",
      "Epoch 17/20\n",
      "183/183 [==============================] - 57s 310ms/step - loss: 0.0365 - accuracy: 0.9911 - val_loss: 0.1377 - val_accuracy: 0.9736\n",
      "\n",
      "Epoch 00017: val_accuracy did not improve from 0.97917\n",
      "Epoch 18/20\n",
      "183/183 [==============================] - 58s 315ms/step - loss: 0.0844 - accuracy: 0.9832 - val_loss: 1.0356 - val_accuracy: 0.9083\n",
      "\n",
      "Epoch 00018: val_accuracy did not improve from 0.97917\n",
      "Epoch 19/20\n",
      "183/183 [==============================] - 55s 300ms/step - loss: 0.3172 - accuracy: 0.9516 - val_loss: 0.3893 - val_accuracy: 0.9431\n",
      "\n",
      "Epoch 00019: val_accuracy did not improve from 0.97917\n",
      "Epoch 20/20\n",
      "183/183 [==============================] - 50s 273ms/step - loss: 0.3222 - accuracy: 0.9585 - val_loss: 0.2142 - val_accuracy: 0.9625\n",
      "\n",
      "Epoch 00020: val_accuracy did not improve from 0.97917\n"
     ]
    }
   ],
   "source": [
    "checkpoint = ModelCheckpoint('best_model_multi.h5', monitor='val_accuracy', mode='max', verbose=1, save_best_only=True)\n",
    "history = model.fit(\n",
    "    x = train_generator,\n",
    "    validation_data = valid_generator,\n",
    "    epochs = 20,\n",
    "    callbacks = [checkpoint],\n",
    "    verbose=1)"
   ]
  },
  {
   "cell_type": "code",
   "execution_count": 8,
   "metadata": {
    "executionInfo": {
     "elapsed": 381,
     "status": "ok",
     "timestamp": 1633064587241,
     "user": {
      "displayName": "Subarno Nathroy",
      "photoUrl": "https://lh3.googleusercontent.com/a/default-user=s64",
      "userId": "15461003740536035718"
     },
     "user_tz": -330
    },
    "id": "ENrdMw1IPTYn"
   },
   "outputs": [],
   "source": [
    "def plot_graph(history,epochs):\n",
    "    acc = history.history['accuracy']\n",
    "    val_acc = history.history['val_accuracy']\n",
    "\n",
    "    loss = history.history['loss']\n",
    "    val_loss = history.history['val_loss']\n",
    "\n",
    "    epochs_range = range(epochs)\n",
    "\n",
    "    plt.figure(figsize=(8, 8))\n",
    "    plt.subplot(1, 2, 1)\n",
    "    plt.plot(epochs_range, acc, label='Training Accuracy')\n",
    "    plt.plot(epochs_range, val_acc, label='Validation Accuracy')\n",
    "    plt.legend(loc='lower right')\n",
    "    plt.title('Training and Validation Accuracy')\n",
    "\n",
    "    plt.subplot(1, 2, 2)\n",
    "    plt.plot(epochs_range, loss, label='Training Loss')\n",
    "    plt.plot(epochs_range, val_loss, label='Validation Loss')\n",
    "    plt.legend(loc='upper right')\n",
    "    plt.title('Training and Validation Loss')\n",
    "    plt.show()"
   ]
  },
  {
   "cell_type": "code",
   "execution_count": 9,
   "metadata": {
    "colab": {
     "base_uri": "https://localhost:8080/",
     "height": 166
    },
    "executionInfo": {
     "elapsed": 362,
     "status": "error",
     "timestamp": 1633064594424,
     "user": {
      "displayName": "Subarno Nathroy",
      "photoUrl": "https://lh3.googleusercontent.com/a/default-user=s64",
      "userId": "15461003740536035718"
     },
     "user_tz": -330
    },
    "id": "81Kg88TfPTYq",
    "outputId": "0274594c-a29b-488d-df36-c79a1dbde907"
   },
   "outputs": [
    {
     "data": {
      "image/png": "[encoded data removed]",
      "text/plain": [
       "<Figure size 576x576 with 2 Axes>"
      ]
     },
     "metadata": {
      "needs_background": "light"
     },
     "output_type": "display_data"
    }
   ],
   "source": [
    "plot_graph(history,20)"
   ]
  },
  {
   "cell_type": "code",
   "execution_count": null,
   "metadata": {},
   "outputs": [],
   "source": []
  }
 ],
 "metadata": {
  "accelerator": "GPU",
  "colab": {
   "name": "PieceClassifier.ipynb",
   "provenance": []
  },
  "interpreter": {
   "hash": "ca8aff4e1b908b317bddf650d9e70a559ef0dc35d193627548069520cf330793"
  },
  "kernelspec": {
   "display_name": "Python 3 (ipykernel)",
   "language": "python",
   "name": "python3"
  },
  "language_info": {
   "codemirror_mode": {
    "name": "ipython",
    "version": 3
   },
   "file_extension": ".py",
   "mimetype": "text/x-python",
   "name": "python",
   "nbconvert_exporter": "python",
   "pygments_lexer": "ipython3",
   "version": "3.8.12"
  }
 },
 "nbformat": 4,
 "nbformat_minor": 2
}
